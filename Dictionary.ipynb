{
 "cells": [
  {
   "cell_type": "markdown",
   "metadata": {},
   "source": [
    "Q1)"
   ]
  },
  {
   "cell_type": "code",
   "execution_count": 2,
   "metadata": {},
   "outputs": [
    {
     "name": "stdout",
     "output_type": "stream",
     "text": [
      "Enter a sentence:Rahul Rahul Kumar Kumar Saw is a good boy\n",
      "Rahul : 2\n",
      "Kumar : 2\n",
      "Saw : 1\n",
      "is : 1\n",
      "a : 1\n",
      "good : 1\n",
      "boy : 1\n"
     ]
    }
   ],
   "source": [
    "sentence=input(\"Enter a sentence:\")\n",
    "word_frequency={}\n",
    "words=sentence.split()\n",
    "for word in words:\n",
    "    if word in word_frequency:\n",
    "        word_frequency[word]+=1\n",
    "    else:\n",
    "        word_frequency[word]=1\n",
    "for key,value in word_frequency.items():\n",
    "    print(key,':',value)"
   ]
  },
  {
   "cell_type": "markdown",
   "metadata": {},
   "source": [
    "Q2)\n"
   ]
  },
  {
   "cell_type": "code",
   "execution_count": 4,
   "metadata": {},
   "outputs": [
    {
     "name": "stdout",
     "output_type": "stream",
     "text": [
      "Enter a string:Rahul Rahul Kumar Saw \n",
      "Kumar\n",
      "Saw\n"
     ]
    }
   ],
   "source": [
    "string=input(\"Enter a string:\")\n",
    "word_frequency={}\n",
    "words=string.split()\n",
    "for word in words:\n",
    "    if word in word_frequency:\n",
    "        word_frequency[word]+=1\n",
    "    else:\n",
    "        word_frequency[word]=1\n",
    "for key,Value in word_frequency.items():\n",
    "    if word_frequency[key]==1:\n",
    "        print(key)\n",
    "        \n"
   ]
  },
  {
   "cell_type": "markdown",
   "metadata": {},
   "source": [
    "Q3)"
   ]
  },
  {
   "cell_type": "code",
   "execution_count": 72,
   "metadata": {},
   "outputs": [
    {
     "name": "stdout",
     "output_type": "stream",
     "text": [
      "\n",
      "Menu\n",
      "1. Add a record\n",
      "2. Search a record\n",
      "3. Change a record\n",
      "4. Delelte a record\n",
      "5.Display records\n",
      "0. Quit\n",
      "Enter your choice: 1\n",
      "Enter name: Rahul\n",
      "Enter your 6 digit phone number: 628775\n",
      "Record added\n",
      "\n",
      "Menu\n",
      "1. Add a record\n",
      "2. Search a record\n",
      "3. Change a record\n",
      "4. Delelte a record\n",
      "5.Display records\n",
      "0. Quit\n",
      "Enter your choice: 2\n",
      "Enter name to search: Rahul\n",
      "Rahul : 628775\n",
      "\n",
      "Menu\n",
      "1. Add a record\n",
      "2. Search a record\n",
      "3. Change a record\n",
      "4. Delelte a record\n",
      "5.Display records\n",
      "0. Quit\n",
      "Enter your choice: 5\n",
      "Rahul : 628775\n",
      "\n",
      "Menu\n",
      "1. Add a record\n",
      "2. Search a record\n",
      "3. Change a record\n",
      "4. Delelte a record\n",
      "5.Display records\n",
      "0. Quit\n",
      "Enter your choice: 0\n"
     ]
    }
   ],
   "source": [
    "phonebook={}\n",
    "choice=1\n",
    "while choice != 0:\n",
    "    print('\\nMenu')\n",
    "    print('1. Add a record')\n",
    "    print('2. Search a record')\n",
    "    print('3. Change a record')\n",
    "    print('4. Delelte a record')\n",
    "    print('5.Display records')\n",
    "    print('0. Quit')\n",
    "    choice = int(input('Enter your choice: '))\n",
    "    if choice == 1:\n",
    "        name = input('Enter name: ')\n",
    "        phone = int(input('Enter your 6 digit phone number: '))\n",
    "        if name in phonebook:\n",
    "            print('Name Already Exists')\n",
    "        else:\n",
    "            phonebook[name] = phone\n",
    "            print('Record added')\n",
    "        \n",
    "    elif choice == 2:\n",
    "        name = input('Enter name to search: ')\n",
    "        if name in phonebook:\n",
    "            print(name,':',phonebook[name])\n",
    "        else:\n",
    "            print('Record not found')\n",
    "    \n",
    "    elif choice == 3:\n",
    "        name = input('Enter name: ')\n",
    "        if name in phonebook:\n",
    "            phone = int(input('Enter new 10 digit phone number: '))\n",
    "            print('Record updated')\n",
    "        else:\n",
    "            print('Record not found')\n",
    "\n",
    "    elif choice == 4:\n",
    "        name = input('Enter name: ')\n",
    "        if name in phonebook:\n",
    "            del phonebook[name]\n",
    "            print('Record deleted')\n",
    "        else:\n",
    "            print('Record not found')\n",
    "    elif choice == 5:\n",
    "        for key,value in phonebook.items():\n",
    "            print(key,':',value)\n",
    "    "
   ]
  },
  {
   "cell_type": "markdown",
   "metadata": {},
   "source": [
    "Q4)"
   ]
  },
  {
   "cell_type": "code",
   "execution_count": 20,
   "metadata": {},
   "outputs": [
    {
     "name": "stdout",
     "output_type": "stream",
     "text": [
      "Enter a string:RRRrraahhhhullllll\n",
      "Letters of string with their respctive frequencies:\n",
      "R : 3\n",
      "r : 2\n",
      "a : 2\n",
      "h : 4\n",
      "u : 1\n",
      "l : 6\n",
      "Letters of string sorted in decreasing order:\n",
      "[('l', 6), ('h', 4), ('R', 3), ('r', 2), ('a', 2), ('u', 1)]\n"
     ]
    }
   ],
   "source": [
    "string=input(\"Enter a string:\")\n",
    "letter=[]\n",
    "letter_frequency={}\n",
    "for ch in string:\n",
    "        if ch in letter_frequency:\n",
    "            letter_frequency[ch]+=1\n",
    "        else:\n",
    "            letter_frequency[ch]=1\n",
    "print(\"Letters of string with their respctive frequencies:\")\n",
    "for k,v in letter_frequency.items():\n",
    "    print(k,':',v)\n",
    "print(\"Letters of string sorted in decreasing order:\")\n",
    "sorted_letters=sorted(letter_frequency.items(),key=lambda x:x[1],reverse=True)\n",
    "print(sorted_letters)\n",
    "\n",
    "\n",
    "\n",
    "        \n",
    "    "
   ]
  },
  {
   "cell_type": "markdown",
   "metadata": {},
   "source": [
    "Q5)"
   ]
  },
  {
   "cell_type": "code",
   "execution_count": 69,
   "metadata": {},
   "outputs": [
    {
     "name": "stdout",
     "output_type": "stream",
     "text": [
      "Enter a string:Rahul\n",
      " r@h^l\n"
     ]
    }
   ],
   "source": [
    "string=input(\"Enter a string:\")\n",
    "vowels={\n",
    "    'a':'@',\n",
    "    'e':'#',\n",
    "    'i':'!',\n",
    "    'o':'%',\n",
    "    'u':'^'\n",
    "}\n",
    "newstr=\" \"\n",
    "for ch in string.lower():\n",
    "    if ch in vowels:\n",
    "        newstr=newstr+vowels[ch]\n",
    "    else:\n",
    "        newstr=newstr+ch\n",
    "print(newstr)\n",
    "\n",
    "\n"
   ]
  },
  {
   "cell_type": "markdown",
   "metadata": {},
   "source": [
    "Q6)"
   ]
  },
  {
   "cell_type": "code",
   "execution_count": 70,
   "metadata": {},
   "outputs": [
    {
     "name": "stdout",
     "output_type": "stream",
     "text": [
      "Enter 1st string: Rahul is good\n",
      "Enter 2nd string: Rahul is best\n",
      "Common words are: \n",
      "Rahul\n",
      "is\n"
     ]
    }
   ],
   "source": [
    "string1 = input(\"Enter 1st string: \")\n",
    "string2 = input(\"Enter 2nd string: \")\n",
    "d = {}\n",
    "for w1 in string1.split():\n",
    "    for w2 in string2.split():\n",
    "        if w1 == w2:\n",
    "            d[w1] =  d.get(w1,0) + 1\n",
    "print(\"Common words are: \") \n",
    "for key in d:\n",
    "    print(key)"
   ]
  },
  {
   "cell_type": "markdown",
   "metadata": {},
   "source": [
    "Q7)"
   ]
  },
  {
   "cell_type": "code",
   "execution_count": 10,
   "metadata": {},
   "outputs": [
    {
     "name": "stdout",
     "output_type": "stream",
     "text": [
      "Enter 10 students Name and their's respective marks:\n",
      "Enter name of student:A\n",
      "Enter marks of student:90\n",
      "Enter name of student:B\n",
      "Enter marks of student:78\n",
      "Enter name of student:C\n",
      "Enter marks of student:57\n",
      "Enter name of student:D\n",
      "Enter marks of student:91\n",
      "Enter name of student:E\n",
      "Enter marks of student:92\n",
      "Enter name of student:F\n",
      "Enter marks of student:37\n",
      "Enter name of student:G\n",
      "Enter marks of student:42\n",
      "Enter name of student:H\n",
      "Enter marks of student:65\n",
      "Enter name of student:I\n",
      "Enter marks of student:66\n",
      "Enter name of student:J\n",
      "Enter marks of student:44\n",
      "Students name with their respective marks:\n",
      "A : 90\n",
      "B : 78\n",
      "C : 57\n",
      "D : 91\n",
      "E : 92\n",
      "F : 37\n",
      "G : 42\n",
      "H : 65\n",
      "I : 66\n",
      "J : 44\n",
      "Students name with their marks in decreasing order:\n",
      "[('E', 92), ('D', 91), ('A', 90), ('B', 78), ('I', 66), ('H', 65), ('C', 57), ('J', 44), ('G', 42), ('F', 37)]\n"
     ]
    }
   ],
   "source": [
    "print(\"Enter 10 students Name and their's respective marks:\")\n",
    "dict={}\n",
    "for i in range(10):\n",
    "    name=input(\"Enter name of student:\")\n",
    "    marks=int(input(\"Enter marks of student:\"))\n",
    "    dict[name]=marks\n",
    "print(\"Students name with their respective marks:\")\n",
    "for key,value in dict.items():\n",
    "    print(key,':',value)\n",
    "print(\"Students name with their marks in decreasing order:\")\n",
    "sorted_marks=sorted(dict.items(),key=lambda x:x[1],reverse=True)\n",
    "print(sorted_marks)\n",
    "\n"
   ]
  },
  {
   "cell_type": "markdown",
   "metadata": {},
   "source": [
    "Q9)"
   ]
  },
  {
   "cell_type": "code",
   "execution_count": 18,
   "metadata": {},
   "outputs": [
    {
     "name": "stdout",
     "output_type": "stream",
     "text": [
      "Enter principal amount:10000\n",
      "Enter rate of interest:7\n",
      "Enter time period:10\n",
      "Enter name of borrower:Rahul Kumar\n",
      "Enter name of lender:HDFC Bank\n",
      "Details:\n",
      "Loan Borrower : Rahul Kumar\n",
      "Loan Lender : HDFC Bank\n",
      "Principal Amount : 10000\n",
      "Time period : 10\n",
      "Rate of Interest : 7.0\n",
      "Amount owned under Simple Interest : 7000\n",
      "Amount owned under Compound Interest : 9672\n"
     ]
    }
   ],
   "source": [
    "principal=int(input(\"Enter principal amount:\"))\n",
    "rate=float(input(\"Enter rate of interest:\"))\n",
    "time=int(input(\"Enter time period:\"))\n",
    "si=round((principal*rate*time)/100)\n",
    "amount=round(principal*pow((1+rate/100),time))\n",
    "ci=amount-principal\n",
    "name=input(\"Enter name of borrower:\")\n",
    "name_lender=input(\"Enter name of lender:\")\n",
    "dict={}\n",
    "dict={\n",
    "    \"Loan Borrower\":name,\n",
    "    \"Loan Lender\":name_lender,\n",
    "    \"Principal Amount\":principal,\n",
    "    \"Time period\":time,\n",
    "    \"Rate of Interest\":rate,\n",
    "    \"Amount owned under Simple Interest\":si,\n",
    "    \"Amount owned under Compound Interest\":ci\n",
    "}\n",
    "print(\"Details:\")\n",
    "for key,value in dict.items():\n",
    "    print(key,':',value)"
   ]
  },
  {
   "cell_type": "markdown",
   "metadata": {},
   "source": [
    "Q10)\n"
   ]
  },
  {
   "cell_type": "code",
   "execution_count": 25,
   "metadata": {},
   "outputs": [
    {
     "name": "stdout",
     "output_type": "stream",
     "text": [
      "Enter string: Rahul Kumar\n",
      "After removing vowels:\n",
      "{'Rahul Kumar': 'Rhl Kmr'}\n"
     ]
    }
   ],
   "source": [
    "input_string = input(\"Enter string: \")\n",
    "result = input_string\n",
    "vowels = ['a', 'e', 'i', 'o', 'u']\n",
    "for x in input_string.lower():\n",
    "    if x in vowels:\n",
    "        result = result.replace(x, \"\")\n",
    "dict={\n",
    "    input_string:result\n",
    "}\n",
    "print(\"After removing vowels:\")\n",
    "print(dict)"
   ]
  },
  {
   "cell_type": "markdown",
   "metadata": {},
   "source": [
    "Q14)"
   ]
  },
  {
   "cell_type": "code",
   "execution_count": 5,
   "metadata": {},
   "outputs": [
    {
     "name": "stdout",
     "output_type": "stream",
     "text": [
      "Enter number of students:2\n",
      "Enter name of student:Rahul\n",
      "Enter roll number of student:133\n",
      "Enter marks of student90\n",
      "Enter name of student:Kumar\n",
      "Enter roll number of student:233\n",
      "Enter marks of student99\n",
      "NAME       ROLL       MARKS     \n",
      "Rahul      133        90.0      \n",
      "Kumar      233        99.0      \n"
     ]
    }
   ],
   "source": [
    "n=int(input(\"Enter number of students:\"))\n",
    "dict={}\n",
    "for i in range(n):\n",
    "    name=input(\"Enter name of student:\")\n",
    "    roll_no=int(input(\"Enter roll number of student:\"))\n",
    "    marks=float(input(\"Enter marks of student\"))\n",
    "    dict[roll_no]=[name,roll_no,marks]\n",
    "print(\"{:<10} {:<10} {:<10}\".format('NAME', 'ROLL', 'MARKS'))\n",
    "for key, value in dict.items():\n",
    "    name, roll_no, marks = value\n",
    "    print(\"{:<10} {:<10} {:<10}\".format(name, roll_no, marks))\n",
    "\n",
    "\n",
    "    "
   ]
  },
  {
   "cell_type": "code",
   "execution_count": null,
   "metadata": {},
   "outputs": [],
   "source": []
  },
  {
   "cell_type": "code",
   "execution_count": null,
   "metadata": {},
   "outputs": [],
   "source": []
  }
 ],
 "metadata": {
  "kernelspec": {
   "display_name": "Python 3",
   "language": "python",
   "name": "python3"
  },
  "language_info": {
   "codemirror_mode": {
    "name": "ipython",
    "version": 3
   },
   "file_extension": ".py",
   "mimetype": "text/x-python",
   "name": "python",
   "nbconvert_exporter": "python",
   "pygments_lexer": "ipython3",
   "version": "3.8.3"
  }
 },
 "nbformat": 4,
 "nbformat_minor": 4
}
